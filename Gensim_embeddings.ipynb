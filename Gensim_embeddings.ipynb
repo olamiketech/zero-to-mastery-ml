{
  "nbformat": 4,
  "nbformat_minor": 0,
  "metadata": {
    "colab": {
      "provenance": [],
      "include_colab_link": true
    },
    "kernelspec": {
      "name": "python3",
      "display_name": "Python 3"
    },
    "language_info": {
      "name": "python"
    }
  },
  "cells": [
    {
      "cell_type": "markdown",
      "metadata": {
        "id": "view-in-github",
        "colab_type": "text"
      },
      "source": [
        "<a href=\"https://colab.research.google.com/github/olamiketech/zero-to-mastery-ml/blob/master/Gensim_embeddings.ipynb\" target=\"_parent\"><img src=\"https://colab.research.google.com/assets/colab-badge.svg\" alt=\"Open In Colab\"/></a>"
      ]
    },
    {
      "cell_type": "markdown",
      "source": [
        "Another Gensim pretrained embeddings: GloVE\n",
        "\n",
        "https://nlp.stanford.edu/projects/glove/"
      ],
      "metadata": {
        "id": "ZpW6tdEKXJXD"
      }
    },
    {
      "cell_type": "code",
      "source": [
        "# Gensim is a recent package for embeddings\n",
        "!pip install --upgrade gensim\n",
        "!pip install pot"
      ],
      "metadata": {
        "id": "CXJArJayFkFX",
        "colab": {
          "base_uri": "https://localhost:8080/"
        },
        "outputId": "385c005b-5ea2-4b2b-9d15-e1cc6396a7f9"
      },
      "execution_count": 1,
      "outputs": [
        {
          "output_type": "stream",
          "name": "stdout",
          "text": [
            "Requirement already satisfied: gensim in /usr/local/lib/python3.10/dist-packages (4.3.2)\n",
            "Requirement already satisfied: numpy>=1.18.5 in /usr/local/lib/python3.10/dist-packages (from gensim) (1.25.2)\n",
            "Requirement already satisfied: scipy>=1.7.0 in /usr/local/lib/python3.10/dist-packages (from gensim) (1.11.4)\n",
            "Requirement already satisfied: smart-open>=1.8.1 in /usr/local/lib/python3.10/dist-packages (from gensim) (6.4.0)\n",
            "Collecting pot\n",
            "  Downloading POT-0.9.3-cp310-cp310-manylinux_2_17_x86_64.manylinux2014_x86_64.whl (823 kB)\n",
            "\u001b[2K     \u001b[90m━━━━━━━━━━━━━━━━━━━━━━━━━━━━━━━━━━━━━━━━\u001b[0m \u001b[32m823.0/823.0 kB\u001b[0m \u001b[31m13.3 MB/s\u001b[0m eta \u001b[36m0:00:00\u001b[0m\n",
            "\u001b[?25hRequirement already satisfied: numpy>=1.16 in /usr/local/lib/python3.10/dist-packages (from pot) (1.25.2)\n",
            "Requirement already satisfied: scipy>=1.6 in /usr/local/lib/python3.10/dist-packages (from pot) (1.11.4)\n",
            "Installing collected packages: pot\n",
            "Successfully installed pot-0.9.3\n"
          ]
        }
      ]
    },
    {
      "cell_type": "code",
      "source": [
        "import gensim.downloader as api\n",
        "word_vectors = api.load(\"glove-wiki-gigaword-100\")  # load pre-trained word-vectors from gensim-data"
      ],
      "metadata": {
        "id": "qBWoZg-NWmWc",
        "colab": {
          "base_uri": "https://localhost:8080/"
        },
        "outputId": "dada1144-e16b-46da-e17b-cbeb3264b57e"
      },
      "execution_count": 2,
      "outputs": [
        {
          "output_type": "stream",
          "name": "stdout",
          "text": [
            "[==================================================] 100.0% 128.1/128.1MB downloaded\n"
          ]
        }
      ]
    },
    {
      "cell_type": "markdown",
      "source": [
        "With the Embedding, you can define a number of semantic operation, to compare words meanings"
      ],
      "metadata": {
        "id": "6PIPcrEoHmI_"
      }
    },
    {
      "cell_type": "code",
      "source": [
        "# how similar are two words\n",
        "similarity = word_vectors.similarity('woman', 'man')\n",
        "print(similarity)"
      ],
      "metadata": {
        "id": "AhY6RyS2DScq",
        "colab": {
          "base_uri": "https://localhost:8080/"
        },
        "outputId": "67790609-913e-4f9c-852b-e6e25a97233e"
      },
      "execution_count": 3,
      "outputs": [
        {
          "output_type": "stream",
          "name": "stdout",
          "text": [
            "0.8323495\n"
          ]
        }
      ]
    },
    {
      "cell_type": "code",
      "source": [
        "# which words are similar to a given one\n",
        "result = word_vectors.similar_by_word(\"novels\")\n",
        "most_similar_key, similarity = result[0]  # look at the first match\n",
        "\n",
        "print(f\"{most_similar_key}: {similarity:.4f}\")"
      ],
      "metadata": {
        "id": "d0lIiuVrDcPw",
        "colab": {
          "base_uri": "https://localhost:8080/"
        },
        "outputId": "79e7c53b-5f06-411f-a6d6-db470a25e9d2"
      },
      "execution_count": 4,
      "outputs": [
        {
          "output_type": "stream",
          "name": "stdout",
          "text": [
            "fiction: 0.8623\n"
          ]
        }
      ]
    },
    {
      "cell_type": "code",
      "source": [
        "# explore which word does not belong or fit with others\n",
        "print(word_vectors.doesnt_match(\"dollar pound beans gold euro\".split()))"
      ],
      "metadata": {
        "id": "ldxyxtzZCOFt",
        "colab": {
          "base_uri": "https://localhost:8080/"
        },
        "outputId": "78a290e2-68df-4eb9-eb32-5b899a8ff7d5"
      },
      "execution_count": 5,
      "outputs": [
        {
          "output_type": "stream",
          "name": "stdout",
          "text": [
            "beans\n"
          ]
        }
      ]
    },
    {
      "cell_type": "code",
      "source": [
        "# what is the semantic distance between two sentences - based on their word content\n",
        "sentence_obama = 'Obama speaks to the media in Illinois'.lower().split()\n",
        "sentence_president = 'The president greets the press in Chicago'.lower().split()\n",
        "\n",
        "similarity = word_vectors.wmdistance(sentence_obama, sentence_president)\n",
        "print(f\"{similarity:.4f}\")"
      ],
      "metadata": {
        "id": "p6ijn5pKD_7W",
        "colab": {
          "base_uri": "https://localhost:8080/"
        },
        "outputId": "abaf09e4-7292-4e1f-dc39-2978ccf39278"
      },
      "execution_count": 6,
      "outputs": [
        {
          "output_type": "stream",
          "name": "stdout",
          "text": [
            "0.6182\n"
          ]
        }
      ]
    },
    {
      "cell_type": "markdown",
      "source": [
        "The distance between word vectors is based on a \"cosine similarity\" measure.\n",
        "This makes it possible to think in terms of semantic features, analogies ..."
      ],
      "metadata": {
        "id": "860thIKmJGAC"
      }
    },
    {
      "cell_type": "code",
      "source": [
        "# Check the \"most similar words\", using the default \"cosine similarity\" measure.\n",
        "result = word_vectors.most_similar(positive=['woman', 'king'], negative=['man'])\n",
        "most_similar_key, similarity = result[0]  # look at the first match\n",
        "print(f\"{most_similar_key}: {similarity:.4f}\")"
      ],
      "metadata": {
        "id": "3-Xj_3yCWrm6",
        "colab": {
          "base_uri": "https://localhost:8080/"
        },
        "outputId": "f537511c-7f5d-4448-8ee9-cf8aa39209b4"
      },
      "execution_count": 7,
      "outputs": [
        {
          "output_type": "stream",
          "name": "stdout",
          "text": [
            "queen: 0.7699\n"
          ]
        }
      ]
    }
  ]
}